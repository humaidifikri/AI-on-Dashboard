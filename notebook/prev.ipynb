{
 "cells": [
  {
   "cell_type": "code",
   "execution_count": 52,
   "id": "789eadeb",
   "metadata": {},
   "outputs": [],
   "source": [
    "import pandas as pd\n",
    "import seaborn as sns\n",
    "\n",
    "from sklearn.preprocessing import StandardScaler,OneHotEncoder\n",
    "from sklearn.compose import ColumnTransformer\n",
    "from sklearn.pipeline import Pipeline\n",
    "from sklearn.model_selection import train_test_split\n",
    "\n",
    "from sklearn.linear_model import LinearRegression\n",
    "from sklearn.ensemble import RandomForestRegressor\n",
    "from sklearn.svm import SVR\n",
    "from sklearn.tree import DecisionTreeRegressor\n",
    "from xgboost import XGBRegressor\n",
    "from sklearn.metrics import r2_score, mean_absolute_error, mean_squared_error"
   ]
  },
  {
   "cell_type": "code",
   "execution_count": 55,
   "id": "c6db1050",
   "metadata": {},
   "outputs": [
    {
     "data": {
      "text/html": [
       "<div>\n",
       "<style scoped>\n",
       "    .dataframe tbody tr th:only-of-type {\n",
       "        vertical-align: middle;\n",
       "    }\n",
       "\n",
       "    .dataframe tbody tr th {\n",
       "        vertical-align: top;\n",
       "    }\n",
       "\n",
       "    .dataframe thead th {\n",
       "        text-align: right;\n",
       "    }\n",
       "</style>\n",
       "<table border=\"1\" class=\"dataframe\">\n",
       "  <thead>\n",
       "    <tr style=\"text-align: right;\">\n",
       "      <th></th>\n",
       "      <th>tanggal</th>\n",
       "      <th>berat_badan</th>\n",
       "      <th>tinggi_badan</th>\n",
       "      <th>bmi</th>\n",
       "      <th>kalori_konsumsi</th>\n",
       "      <th>protein_gram</th>\n",
       "      <th>lemak_gram</th>\n",
       "      <th>gula_gram</th>\n",
       "      <th>karbohidrat_gram</th>\n",
       "      <th>air_liter</th>\n",
       "      <th>stress_level</th>\n",
       "      <th>jam_tidur</th>\n",
       "      <th>kualitas_tidur</th>\n",
       "    </tr>\n",
       "  </thead>\n",
       "  <tbody>\n",
       "    <tr>\n",
       "      <th>0</th>\n",
       "      <td>2024-01-01</td>\n",
       "      <td>53.0</td>\n",
       "      <td>165</td>\n",
       "      <td>19.47</td>\n",
       "      <td>2607</td>\n",
       "      <td>133</td>\n",
       "      <td>73</td>\n",
       "      <td>82</td>\n",
       "      <td>304</td>\n",
       "      <td>1.0</td>\n",
       "      <td>3</td>\n",
       "      <td>8</td>\n",
       "      <td>8</td>\n",
       "    </tr>\n",
       "    <tr>\n",
       "      <th>1</th>\n",
       "      <td>2024-01-02</td>\n",
       "      <td>52.9</td>\n",
       "      <td>165</td>\n",
       "      <td>19.43</td>\n",
       "      <td>2228</td>\n",
       "      <td>126</td>\n",
       "      <td>64</td>\n",
       "      <td>49</td>\n",
       "      <td>192</td>\n",
       "      <td>2.9</td>\n",
       "      <td>4</td>\n",
       "      <td>7</td>\n",
       "      <td>6</td>\n",
       "    </tr>\n",
       "    <tr>\n",
       "      <th>2</th>\n",
       "      <td>2024-01-03</td>\n",
       "      <td>53.1</td>\n",
       "      <td>165</td>\n",
       "      <td>19.50</td>\n",
       "      <td>1922</td>\n",
       "      <td>144</td>\n",
       "      <td>48</td>\n",
       "      <td>93</td>\n",
       "      <td>315</td>\n",
       "      <td>3.0</td>\n",
       "      <td>2</td>\n",
       "      <td>7</td>\n",
       "      <td>10</td>\n",
       "    </tr>\n",
       "    <tr>\n",
       "      <th>3</th>\n",
       "      <td>2024-01-04</td>\n",
       "      <td>53.2</td>\n",
       "      <td>165</td>\n",
       "      <td>19.54</td>\n",
       "      <td>2292</td>\n",
       "      <td>129</td>\n",
       "      <td>54</td>\n",
       "      <td>67</td>\n",
       "      <td>334</td>\n",
       "      <td>1.9</td>\n",
       "      <td>9</td>\n",
       "      <td>8</td>\n",
       "      <td>4</td>\n",
       "    </tr>\n",
       "    <tr>\n",
       "      <th>4</th>\n",
       "      <td>2024-01-05</td>\n",
       "      <td>53.1</td>\n",
       "      <td>165</td>\n",
       "      <td>19.50</td>\n",
       "      <td>2041</td>\n",
       "      <td>132</td>\n",
       "      <td>90</td>\n",
       "      <td>44</td>\n",
       "      <td>235</td>\n",
       "      <td>2.4</td>\n",
       "      <td>7</td>\n",
       "      <td>6</td>\n",
       "      <td>3</td>\n",
       "    </tr>\n",
       "    <tr>\n",
       "      <th>...</th>\n",
       "      <td>...</td>\n",
       "      <td>...</td>\n",
       "      <td>...</td>\n",
       "      <td>...</td>\n",
       "      <td>...</td>\n",
       "      <td>...</td>\n",
       "      <td>...</td>\n",
       "      <td>...</td>\n",
       "      <td>...</td>\n",
       "      <td>...</td>\n",
       "      <td>...</td>\n",
       "      <td>...</td>\n",
       "      <td>...</td>\n",
       "    </tr>\n",
       "    <tr>\n",
       "      <th>530</th>\n",
       "      <td>2025-06-14</td>\n",
       "      <td>62.9</td>\n",
       "      <td>165</td>\n",
       "      <td>23.10</td>\n",
       "      <td>1909</td>\n",
       "      <td>78</td>\n",
       "      <td>72</td>\n",
       "      <td>49</td>\n",
       "      <td>239</td>\n",
       "      <td>3.3</td>\n",
       "      <td>6</td>\n",
       "      <td>7</td>\n",
       "      <td>10</td>\n",
       "    </tr>\n",
       "    <tr>\n",
       "      <th>531</th>\n",
       "      <td>2025-06-15</td>\n",
       "      <td>62.8</td>\n",
       "      <td>165</td>\n",
       "      <td>23.07</td>\n",
       "      <td>2587</td>\n",
       "      <td>129</td>\n",
       "      <td>63</td>\n",
       "      <td>99</td>\n",
       "      <td>170</td>\n",
       "      <td>2.8</td>\n",
       "      <td>2</td>\n",
       "      <td>8</td>\n",
       "      <td>9</td>\n",
       "    </tr>\n",
       "    <tr>\n",
       "      <th>532</th>\n",
       "      <td>2025-06-16</td>\n",
       "      <td>63.0</td>\n",
       "      <td>165</td>\n",
       "      <td>23.14</td>\n",
       "      <td>2649</td>\n",
       "      <td>103</td>\n",
       "      <td>60</td>\n",
       "      <td>50</td>\n",
       "      <td>180</td>\n",
       "      <td>2.1</td>\n",
       "      <td>9</td>\n",
       "      <td>5</td>\n",
       "      <td>4</td>\n",
       "    </tr>\n",
       "    <tr>\n",
       "      <th>533</th>\n",
       "      <td>2025-06-17</td>\n",
       "      <td>63.1</td>\n",
       "      <td>165</td>\n",
       "      <td>23.18</td>\n",
       "      <td>2004</td>\n",
       "      <td>51</td>\n",
       "      <td>46</td>\n",
       "      <td>39</td>\n",
       "      <td>209</td>\n",
       "      <td>2.6</td>\n",
       "      <td>2</td>\n",
       "      <td>5</td>\n",
       "      <td>8</td>\n",
       "    </tr>\n",
       "    <tr>\n",
       "      <th>534</th>\n",
       "      <td>2025-06-18</td>\n",
       "      <td>62.9</td>\n",
       "      <td>165</td>\n",
       "      <td>23.10</td>\n",
       "      <td>2648</td>\n",
       "      <td>99</td>\n",
       "      <td>79</td>\n",
       "      <td>40</td>\n",
       "      <td>281</td>\n",
       "      <td>3.4</td>\n",
       "      <td>7</td>\n",
       "      <td>5</td>\n",
       "      <td>8</td>\n",
       "    </tr>\n",
       "  </tbody>\n",
       "</table>\n",
       "<p>535 rows × 13 columns</p>\n",
       "</div>"
      ],
      "text/plain": [
       "        tanggal  berat_badan  tinggi_badan    bmi  kalori_konsumsi  \\\n",
       "0    2024-01-01         53.0           165  19.47             2607   \n",
       "1    2024-01-02         52.9           165  19.43             2228   \n",
       "2    2024-01-03         53.1           165  19.50             1922   \n",
       "3    2024-01-04         53.2           165  19.54             2292   \n",
       "4    2024-01-05         53.1           165  19.50             2041   \n",
       "..          ...          ...           ...    ...              ...   \n",
       "530  2025-06-14         62.9           165  23.10             1909   \n",
       "531  2025-06-15         62.8           165  23.07             2587   \n",
       "532  2025-06-16         63.0           165  23.14             2649   \n",
       "533  2025-06-17         63.1           165  23.18             2004   \n",
       "534  2025-06-18         62.9           165  23.10             2648   \n",
       "\n",
       "     protein_gram  lemak_gram  gula_gram  karbohidrat_gram  air_liter  \\\n",
       "0             133          73         82               304        1.0   \n",
       "1             126          64         49               192        2.9   \n",
       "2             144          48         93               315        3.0   \n",
       "3             129          54         67               334        1.9   \n",
       "4             132          90         44               235        2.4   \n",
       "..            ...         ...        ...               ...        ...   \n",
       "530            78          72         49               239        3.3   \n",
       "531           129          63         99               170        2.8   \n",
       "532           103          60         50               180        2.1   \n",
       "533            51          46         39               209        2.6   \n",
       "534            99          79         40               281        3.4   \n",
       "\n",
       "     stress_level  jam_tidur  kualitas_tidur  \n",
       "0               3          8               8  \n",
       "1               4          7               6  \n",
       "2               2          7              10  \n",
       "3               9          8               4  \n",
       "4               7          6               3  \n",
       "..            ...        ...             ...  \n",
       "530             6          7              10  \n",
       "531             2          8               9  \n",
       "532             9          5               4  \n",
       "533             2          5               8  \n",
       "534             7          5               8  \n",
       "\n",
       "[535 rows x 13 columns]"
      ]
     },
     "execution_count": 55,
     "metadata": {},
     "output_type": "execute_result"
    }
   ],
   "source": [
    "df = pd.read_csv('../data/weight_track.csv')\n",
    "df"
   ]
  },
  {
   "cell_type": "code",
   "execution_count": 44,
   "id": "975afd10",
   "metadata": {},
   "outputs": [
    {
     "data": {
      "text/plain": [
       "array([8, 6, 10, 4, 3, 2, 1, 7, 5, 9], dtype=object)"
      ]
     },
     "execution_count": 44,
     "metadata": {},
     "output_type": "execute_result"
    }
   ],
   "source": [
    "col = ['stress_level','jam_tidur','kualitas_tidur']\n",
    "\n",
    "# for c in col:\n",
    "#     print(df[col].unique)\n",
    "\n",
    "df['kualitas_tidur'].unique()"
   ]
  },
  {
   "cell_type": "code",
   "execution_count": 56,
   "id": "4a37f4aa",
   "metadata": {},
   "outputs": [
    {
     "name": "stdout",
     "output_type": "stream",
     "text": [
      "<class 'pandas.core.frame.DataFrame'>\n",
      "RangeIndex: 535 entries, 0 to 534\n",
      "Data columns (total 13 columns):\n",
      " #   Column            Non-Null Count  Dtype  \n",
      "---  ------            --------------  -----  \n",
      " 0   tanggal           535 non-null    object \n",
      " 1   berat_badan       535 non-null    float64\n",
      " 2   tinggi_badan      535 non-null    int64  \n",
      " 3   bmi               535 non-null    float64\n",
      " 4   kalori_konsumsi   535 non-null    int64  \n",
      " 5   protein_gram      535 non-null    int64  \n",
      " 6   lemak_gram        535 non-null    int64  \n",
      " 7   gula_gram         535 non-null    int64  \n",
      " 8   karbohidrat_gram  535 non-null    int64  \n",
      " 9   air_liter         535 non-null    float64\n",
      " 10  stress_level      535 non-null    int64  \n",
      " 11  jam_tidur         535 non-null    int64  \n",
      " 12  kualitas_tidur    535 non-null    int64  \n",
      "dtypes: float64(3), int64(9), object(1)\n",
      "memory usage: 54.5+ KB\n"
     ]
    }
   ],
   "source": [
    "df.info()"
   ]
  },
  {
   "cell_type": "code",
   "execution_count": 57,
   "id": "d28d783a",
   "metadata": {},
   "outputs": [
    {
     "name": "stdout",
     "output_type": "stream",
     "text": [
      "<class 'pandas.core.frame.DataFrame'>\n",
      "RangeIndex: 535 entries, 0 to 534\n",
      "Data columns (total 13 columns):\n",
      " #   Column            Non-Null Count  Dtype         \n",
      "---  ------            --------------  -----         \n",
      " 0   tanggal           535 non-null    datetime64[ns]\n",
      " 1   berat_badan       535 non-null    float64       \n",
      " 2   tinggi_badan      535 non-null    int64         \n",
      " 3   bmi               535 non-null    float64       \n",
      " 4   kalori_konsumsi   535 non-null    int64         \n",
      " 5   protein_gram      535 non-null    int64         \n",
      " 6   lemak_gram        535 non-null    int64         \n",
      " 7   gula_gram         535 non-null    int64         \n",
      " 8   karbohidrat_gram  535 non-null    int64         \n",
      " 9   air_liter         535 non-null    float64       \n",
      " 10  stress_level      535 non-null    int64         \n",
      " 11  jam_tidur         535 non-null    int64         \n",
      " 12  kualitas_tidur    535 non-null    int64         \n",
      "dtypes: datetime64[ns](1), float64(3), int64(9)\n",
      "memory usage: 54.5 KB\n"
     ]
    }
   ],
   "source": [
    "df.tanggal = pd.to_datetime(df['tanggal'])\n",
    "df.info()"
   ]
  },
  {
   "cell_type": "code",
   "execution_count": 5,
   "id": "b215b644",
   "metadata": {},
   "outputs": [
    {
     "name": "stdout",
     "output_type": "stream",
     "text": [
      "<class 'pandas.core.frame.DataFrame'>\n",
      "RangeIndex: 535 entries, 0 to 534\n",
      "Data columns (total 13 columns):\n",
      " #   Column            Non-Null Count  Dtype         \n",
      "---  ------            --------------  -----         \n",
      " 0   tanggal           535 non-null    datetime64[ns]\n",
      " 1   berat_badan       535 non-null    float64       \n",
      " 2   tinggi_badan      535 non-null    int64         \n",
      " 3   bmi               535 non-null    float64       \n",
      " 4   kalori_konsumsi   535 non-null    int64         \n",
      " 5   protein_gram      535 non-null    int64         \n",
      " 6   lemak_gram        535 non-null    int64         \n",
      " 7   gula_gram         535 non-null    int64         \n",
      " 8   karbohidrat_gram  535 non-null    int64         \n",
      " 9   air_liter         535 non-null    float64       \n",
      " 10  stress_level      535 non-null    object        \n",
      " 11  jam_tidur         535 non-null    int64         \n",
      " 12  kualitas_tidur    535 non-null    object        \n",
      "dtypes: datetime64[ns](1), float64(3), int64(7), object(2)\n",
      "memory usage: 54.5+ KB\n"
     ]
    }
   ],
   "source": [
    "# df[['stress_level','kualitas_tidur']] = df[['stress_level','kualitas_tidur']].astype('object')\n",
    "# df.info()"
   ]
  },
  {
   "cell_type": "code",
   "execution_count": 11,
   "id": "3a7522ac",
   "metadata": {},
   "outputs": [
    {
     "data": {
      "text/html": [
       "<div>\n",
       "<style scoped>\n",
       "    .dataframe tbody tr th:only-of-type {\n",
       "        vertical-align: middle;\n",
       "    }\n",
       "\n",
       "    .dataframe tbody tr th {\n",
       "        vertical-align: top;\n",
       "    }\n",
       "\n",
       "    .dataframe thead th {\n",
       "        text-align: right;\n",
       "    }\n",
       "</style>\n",
       "<table border=\"1\" class=\"dataframe\">\n",
       "  <thead>\n",
       "    <tr style=\"text-align: right;\">\n",
       "      <th></th>\n",
       "      <th>Model</th>\n",
       "      <th>R2</th>\n",
       "      <th>MAE</th>\n",
       "      <th>MSE</th>\n",
       "    </tr>\n",
       "  </thead>\n",
       "  <tbody>\n",
       "    <tr>\n",
       "      <th>0</th>\n",
       "      <td>Linear Regression</td>\n",
       "      <td>0.999993</td>\n",
       "      <td>0.007196</td>\n",
       "      <td>0.000069</td>\n",
       "    </tr>\n",
       "    <tr>\n",
       "      <th>1</th>\n",
       "      <td>Random Forest</td>\n",
       "      <td>0.999903</td>\n",
       "      <td>0.018692</td>\n",
       "      <td>0.000995</td>\n",
       "    </tr>\n",
       "    <tr>\n",
       "      <th>2</th>\n",
       "      <td>SVM</td>\n",
       "      <td>0.964641</td>\n",
       "      <td>0.430482</td>\n",
       "      <td>0.363628</td>\n",
       "    </tr>\n",
       "    <tr>\n",
       "      <th>3</th>\n",
       "      <td>Decision Tree</td>\n",
       "      <td>0.999755</td>\n",
       "      <td>0.019626</td>\n",
       "      <td>0.002523</td>\n",
       "    </tr>\n",
       "    <tr>\n",
       "      <th>4</th>\n",
       "      <td>XGB</td>\n",
       "      <td>0.999620</td>\n",
       "      <td>0.039374</td>\n",
       "      <td>0.003907</td>\n",
       "    </tr>\n",
       "  </tbody>\n",
       "</table>\n",
       "</div>"
      ],
      "text/plain": [
       "               Model        R2       MAE       MSE\n",
       "0  Linear Regression  0.999993  0.007196  0.000069\n",
       "1      Random Forest  0.999903  0.018692  0.000995\n",
       "2                SVM  0.964641  0.430482  0.363628\n",
       "3      Decision Tree  0.999755  0.019626  0.002523\n",
       "4                XGB  0.999620  0.039374  0.003907"
      ]
     },
     "execution_count": 11,
     "metadata": {},
     "output_type": "execute_result"
    }
   ],
   "source": [
    "# X = df.drop(columns=['berat_badan'])\n",
    "# y = df['berat_badan']\n",
    "\n",
    "# X_train, X_test, y_train, y_test = train_test_split(X, y, test_size=0.2,shuffle=True, random_state=42)\n",
    "\n",
    "# models = {\n",
    "#     \"Linear Regression\": LinearRegression(fit_intercept=False),\n",
    "#     \"Random Forest\": RandomForestRegressor(),\n",
    "#     \"SVM\": SVR(),\n",
    "#     \"Decision Tree\": DecisionTreeRegressor(),\n",
    "#     \"XGB\": XGBRegressor()\n",
    "# }\n",
    "\n",
    "# num_cols = X.select_dtypes(include=['float64','int64'],exclude='object').columns\n",
    "# cat_cols = X.select_dtypes(exclude=['float64','int64'],include='object').columns\n",
    "\n",
    "# name_list =[]\n",
    "# r2 = []\n",
    "# mae_score = []\n",
    "# mse_score = []\n",
    "\n",
    "# # acc = []\n",
    "\n",
    "# for name, model in models.items():\n",
    "#     num_pipe = Pipeline([\n",
    "#         ('scl',StandardScaler()),\n",
    "#     ])\n",
    "    \n",
    "#     cat_pipe = Pipeline([\n",
    "#         ('enc',OneHotEncoder()),\n",
    "#     ])\n",
    "    \n",
    "#     transformer = ColumnTransformer([\n",
    "#         ('num',num_pipe,num_cols),\n",
    "#         ('cat',cat_pipe,cat_cols)\n",
    "#     ])\n",
    "    \n",
    "#     pipeline = Pipeline([\n",
    "#         (\"trf\", transformer), \n",
    "#         (\"classifier\", model)\n",
    "#     ])\n",
    "    \n",
    "#     pipeline.fit(X_train,y_train)\n",
    "#     y_pred = pipeline.predict(X_test)\n",
    "#     score_r2 = r2_score(y_test,y_pred)\n",
    "#     mae = mean_absolute_error(y_test,y_pred)\n",
    "#     mse = mean_squared_error(y_test,y_pred)\n",
    "    \n",
    "#     name_list.append(name)\n",
    "#     r2.append(score_r2)\n",
    "#     mae_score.append(mae)\n",
    "#     mse_score.append(mse)\n",
    "# #     acc.append(acc_score)\n",
    "    \n",
    "# #     print(model)\n",
    "# #     print(classification_report(y_test,y_pred))\n",
    "    \n",
    "# selection = pd.DataFrame({\n",
    "#     \"Model\": name_list,\n",
    "#     \"R2\": r2,\n",
    "#     \"MAE\": mae_score,\n",
    "#     \"MSE\": mse_score,\n",
    "# #     \"Accuracy Score\": acc,\n",
    "# })\n",
    "\n",
    "# selection"
   ]
  },
  {
   "cell_type": "code",
   "execution_count": 58,
   "id": "bff58b3f",
   "metadata": {
    "scrolled": true
   },
   "outputs": [
    {
     "data": {
      "text/plain": [
       "0.006807843338916538"
      ]
     },
     "execution_count": 58,
     "metadata": {},
     "output_type": "execute_result"
    }
   ],
   "source": [
    "\n",
    "\n",
    "X = df.drop(columns=['berat_badan','tanggal'])\n",
    "y = df['berat_badan']\n",
    "\n",
    "num_cols = X.select_dtypes(include=['float64','int64'],exclude='object').columns\n",
    "# cat_cols = X.select_dtypes(exclude=['float64','int64'],include='object').columns\n",
    "\n",
    "X_train, X_test, y_train, y_test = train_test_split(X, y, test_size=0.2,shuffle=True, random_state=42)\n",
    "\n",
    "num_pipe = Pipeline([\n",
    "        ('scl',StandardScaler()),\n",
    "])\n",
    "\n",
    "# cat_pipe = Pipeline([\n",
    "#     ('enc',OneHotEncoder(handle_unknown='ignore')),\n",
    "# ])\n",
    "\n",
    "transformer = ColumnTransformer([\n",
    "    ('num',num_pipe,num_cols),\n",
    "#     ('cat',cat_pipe,cat_cols)\n",
    "])\n",
    "\n",
    "model = Pipeline([\n",
    "    (\"trf\", transformer), \n",
    "    (\"classifier\", LinearRegression())\n",
    "])\n",
    "\n",
    "model.fit(X_train,y_train)\n",
    "y_pred = model.predict(X_test)\n",
    "mae = mean_absolute_error(y_test,y_pred)\n",
    "mae"
   ]
  },
  {
   "cell_type": "code",
   "execution_count": 59,
   "id": "c3b6f735",
   "metadata": {},
   "outputs": [
    {
     "data": {
      "text/plain": [
       "(Index(['tinggi_badan', 'bmi', 'kalori_konsumsi', 'protein_gram', 'lemak_gram',\n",
       "        'gula_gram', 'karbohidrat_gram', 'air_liter', 'stress_level',\n",
       "        'jam_tidur', 'kualitas_tidur'],\n",
       "       dtype='object'),\n",
       " Index([], dtype='object'))"
      ]
     },
     "execution_count": 59,
     "metadata": {},
     "output_type": "execute_result"
    }
   ],
   "source": [
    "num_cols = X.select_dtypes(include=['float64','int64'],exclude='object').columns\n",
    "cat_cols = X.select_dtypes(exclude=['float64','int64'],include='object').columns\n",
    "num_cols,cat_cols"
   ]
  },
  {
   "cell_type": "code",
   "execution_count": 60,
   "id": "7a162383",
   "metadata": {},
   "outputs": [
    {
     "data": {
      "text/plain": [
       "57.771028037383175"
      ]
     },
     "execution_count": 60,
     "metadata": {},
     "output_type": "execute_result"
    }
   ],
   "source": [
    "y_test.mean()"
   ]
  },
  {
   "cell_type": "code",
   "execution_count": 61,
   "id": "cc260dea",
   "metadata": {},
   "outputs": [
    {
     "data": {
      "text/html": [
       "<div>\n",
       "<style scoped>\n",
       "    .dataframe tbody tr th:only-of-type {\n",
       "        vertical-align: middle;\n",
       "    }\n",
       "\n",
       "    .dataframe tbody tr th {\n",
       "        vertical-align: top;\n",
       "    }\n",
       "\n",
       "    .dataframe thead th {\n",
       "        text-align: right;\n",
       "    }\n",
       "</style>\n",
       "<table border=\"1\" class=\"dataframe\">\n",
       "  <thead>\n",
       "    <tr style=\"text-align: right;\">\n",
       "      <th></th>\n",
       "      <th>tinggi_badan</th>\n",
       "      <th>bmi</th>\n",
       "      <th>kalori_konsumsi</th>\n",
       "      <th>protein_gram</th>\n",
       "      <th>lemak_gram</th>\n",
       "      <th>gula_gram</th>\n",
       "      <th>karbohidrat_gram</th>\n",
       "      <th>air_liter</th>\n",
       "      <th>stress_level</th>\n",
       "      <th>jam_tidur</th>\n",
       "      <th>kualitas_tidur</th>\n",
       "    </tr>\n",
       "  </thead>\n",
       "  <tbody>\n",
       "    <tr>\n",
       "      <th>117</th>\n",
       "      <td>165</td>\n",
       "      <td>20.2</td>\n",
       "      <td>2770</td>\n",
       "      <td>124</td>\n",
       "      <td>75</td>\n",
       "      <td>33</td>\n",
       "      <td>338</td>\n",
       "      <td>3.2</td>\n",
       "      <td>1</td>\n",
       "      <td>7</td>\n",
       "      <td>6</td>\n",
       "    </tr>\n",
       "  </tbody>\n",
       "</table>\n",
       "</div>"
      ],
      "text/plain": [
       "     tinggi_badan   bmi  kalori_konsumsi  protein_gram  lemak_gram  gula_gram  \\\n",
       "117           165  20.2             2770           124          75         33   \n",
       "\n",
       "     karbohidrat_gram  air_liter  stress_level  jam_tidur  kualitas_tidur  \n",
       "117               338        3.2             1          7               6  "
      ]
     },
     "execution_count": 61,
     "metadata": {},
     "output_type": "execute_result"
    }
   ],
   "source": [
    "X_test[:1]"
   ]
  },
  {
   "cell_type": "code",
   "execution_count": 62,
   "id": "e494883f",
   "metadata": {},
   "outputs": [
    {
     "data": {
      "text/plain": [
       "array([54.99337918])"
      ]
     },
     "execution_count": 62,
     "metadata": {},
     "output_type": "execute_result"
    }
   ],
   "source": [
    "new_pred = model.predict(X_test[:1])\n",
    "new_pred"
   ]
  },
  {
   "cell_type": "code",
   "execution_count": 63,
   "id": "5f2426c1",
   "metadata": {},
   "outputs": [
    {
     "data": {
      "text/plain": [
       "117    55.0\n",
       "Name: berat_badan, dtype: float64"
      ]
     },
     "execution_count": 63,
     "metadata": {},
     "output_type": "execute_result"
    }
   ],
   "source": [
    "y_test[:1]"
   ]
  },
  {
   "cell_type": "code",
   "execution_count": 64,
   "id": "dcbd3a0e",
   "metadata": {},
   "outputs": [
    {
     "data": {
      "text/plain": [
       "['../models/linear_model.pkl']"
      ]
     },
     "execution_count": 64,
     "metadata": {},
     "output_type": "execute_result"
    }
   ],
   "source": [
    "import joblib\n",
    "joblib.dump(model,'../models/linear_model.pkl')"
   ]
  },
  {
   "cell_type": "code",
   "execution_count": null,
   "id": "9e5e1bdf",
   "metadata": {},
   "outputs": [],
   "source": []
  }
 ],
 "metadata": {
  "kernelspec": {
   "display_name": "Python [conda env:ds]",
   "language": "python",
   "name": "conda-env-ds-py"
  },
  "language_info": {
   "codemirror_mode": {
    "name": "ipython",
    "version": 3
   },
   "file_extension": ".py",
   "mimetype": "text/x-python",
   "name": "python",
   "nbconvert_exporter": "python",
   "pygments_lexer": "ipython3",
   "version": "3.10.0"
  }
 },
 "nbformat": 4,
 "nbformat_minor": 5
}
