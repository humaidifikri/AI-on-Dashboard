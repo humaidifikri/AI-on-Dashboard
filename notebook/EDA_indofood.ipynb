{
 "cells": [
  {
   "cell_type": "code",
   "execution_count": 1,
   "id": "e0bde8dc",
   "metadata": {},
   "outputs": [],
   "source": [
    "import pandas as pd"
   ]
  },
  {
   "cell_type": "code",
   "execution_count": 2,
   "id": "db8df1d7",
   "metadata": {},
   "outputs": [
    {
     "data": {
      "text/html": [
       "<div>\n",
       "<style scoped>\n",
       "    .dataframe tbody tr th:only-of-type {\n",
       "        vertical-align: middle;\n",
       "    }\n",
       "\n",
       "    .dataframe tbody tr th {\n",
       "        vertical-align: top;\n",
       "    }\n",
       "\n",
       "    .dataframe thead th {\n",
       "        text-align: right;\n",
       "    }\n",
       "</style>\n",
       "<table border=\"1\" class=\"dataframe\">\n",
       "  <thead>\n",
       "    <tr style=\"text-align: right;\">\n",
       "      <th></th>\n",
       "      <th>id</th>\n",
       "      <th>calories</th>\n",
       "      <th>proteins</th>\n",
       "      <th>fat</th>\n",
       "      <th>carbohydrate</th>\n",
       "      <th>name</th>\n",
       "      <th>image</th>\n",
       "    </tr>\n",
       "  </thead>\n",
       "  <tbody>\n",
       "    <tr>\n",
       "      <th>0</th>\n",
       "      <td>1</td>\n",
       "      <td>280.0</td>\n",
       "      <td>9.2</td>\n",
       "      <td>28.4</td>\n",
       "      <td>0.0</td>\n",
       "      <td>Abon</td>\n",
       "      <td>https://img-cdn.medkomtek.com/PbrY9X3ignQ8sVuj...</td>\n",
       "    </tr>\n",
       "    <tr>\n",
       "      <th>1</th>\n",
       "      <td>2</td>\n",
       "      <td>513.0</td>\n",
       "      <td>23.7</td>\n",
       "      <td>37.0</td>\n",
       "      <td>21.3</td>\n",
       "      <td>Abon haruwan</td>\n",
       "      <td>https://img-global.cpcdn.com/recipes/cbf330fbd...</td>\n",
       "    </tr>\n",
       "    <tr>\n",
       "      <th>2</th>\n",
       "      <td>3</td>\n",
       "      <td>0.0</td>\n",
       "      <td>0.0</td>\n",
       "      <td>0.2</td>\n",
       "      <td>0.0</td>\n",
       "      <td>Agar-agar</td>\n",
       "      <td>https://res.cloudinary.com/dk0z4ums3/image/upl...</td>\n",
       "    </tr>\n",
       "    <tr>\n",
       "      <th>3</th>\n",
       "      <td>4</td>\n",
       "      <td>45.0</td>\n",
       "      <td>1.1</td>\n",
       "      <td>0.4</td>\n",
       "      <td>10.8</td>\n",
       "      <td>Akar tonjong segar</td>\n",
       "      <td>https://images.tokopedia.net/img/cache/200-squ...</td>\n",
       "    </tr>\n",
       "    <tr>\n",
       "      <th>4</th>\n",
       "      <td>5</td>\n",
       "      <td>37.0</td>\n",
       "      <td>4.4</td>\n",
       "      <td>0.5</td>\n",
       "      <td>3.8</td>\n",
       "      <td>Aletoge segar</td>\n",
       "      <td>https://nilaigizi.com/assets/images/produk/pro...</td>\n",
       "    </tr>\n",
       "    <tr>\n",
       "      <th>...</th>\n",
       "      <td>...</td>\n",
       "      <td>...</td>\n",
       "      <td>...</td>\n",
       "      <td>...</td>\n",
       "      <td>...</td>\n",
       "      <td>...</td>\n",
       "      <td>...</td>\n",
       "    </tr>\n",
       "    <tr>\n",
       "      <th>1341</th>\n",
       "      <td>1342</td>\n",
       "      <td>42.0</td>\n",
       "      <td>1.2</td>\n",
       "      <td>0.6</td>\n",
       "      <td>9.3</td>\n",
       "      <td>Wortel Segar</td>\n",
       "      <td>https://www.astronauts.id/blog/wp-content/uplo...</td>\n",
       "    </tr>\n",
       "    <tr>\n",
       "      <th>1342</th>\n",
       "      <td>1343</td>\n",
       "      <td>37.0</td>\n",
       "      <td>1.0</td>\n",
       "      <td>0.6</td>\n",
       "      <td>8.3</td>\n",
       "      <td>Wortel kukus</td>\n",
       "      <td>https://www.wikihow.com/images_en/thumb/b/bf/S...</td>\n",
       "    </tr>\n",
       "    <tr>\n",
       "      <th>1343</th>\n",
       "      <td>1344</td>\n",
       "      <td>28.0</td>\n",
       "      <td>0.7</td>\n",
       "      <td>0.5</td>\n",
       "      <td>6.3</td>\n",
       "      <td>Wortel rebus</td>\n",
       "      <td>https://asset-a.grid.id/crop/0x222:594x690/700...</td>\n",
       "    </tr>\n",
       "    <tr>\n",
       "      <th>1344</th>\n",
       "      <td>1345</td>\n",
       "      <td>254.0</td>\n",
       "      <td>3.0</td>\n",
       "      <td>1.1</td>\n",
       "      <td>58.1</td>\n",
       "      <td>Yangko</td>\n",
       "      <td>https://serikatnews.com/wp-content/uploads/202...</td>\n",
       "    </tr>\n",
       "    <tr>\n",
       "      <th>1345</th>\n",
       "      <td>1346</td>\n",
       "      <td>52.0</td>\n",
       "      <td>3.3</td>\n",
       "      <td>2.5</td>\n",
       "      <td>4.0</td>\n",
       "      <td>Yoghurt</td>\n",
       "      <td>https://d1vbn70lmn1nqe.cloudfront.net/prod/wp-...</td>\n",
       "    </tr>\n",
       "  </tbody>\n",
       "</table>\n",
       "<p>1346 rows × 7 columns</p>\n",
       "</div>"
      ],
      "text/plain": [
       "        id  calories  proteins   fat  carbohydrate                name  \\\n",
       "0        1     280.0       9.2  28.4           0.0                Abon   \n",
       "1        2     513.0      23.7  37.0          21.3        Abon haruwan   \n",
       "2        3       0.0       0.0   0.2           0.0           Agar-agar   \n",
       "3        4      45.0       1.1   0.4          10.8  Akar tonjong segar   \n",
       "4        5      37.0       4.4   0.5           3.8       Aletoge segar   \n",
       "...    ...       ...       ...   ...           ...                 ...   \n",
       "1341  1342      42.0       1.2   0.6           9.3        Wortel Segar   \n",
       "1342  1343      37.0       1.0   0.6           8.3        Wortel kukus   \n",
       "1343  1344      28.0       0.7   0.5           6.3        Wortel rebus   \n",
       "1344  1345     254.0       3.0   1.1          58.1              Yangko   \n",
       "1345  1346      52.0       3.3   2.5           4.0             Yoghurt   \n",
       "\n",
       "                                                  image  \n",
       "0     https://img-cdn.medkomtek.com/PbrY9X3ignQ8sVuj...  \n",
       "1     https://img-global.cpcdn.com/recipes/cbf330fbd...  \n",
       "2     https://res.cloudinary.com/dk0z4ums3/image/upl...  \n",
       "3     https://images.tokopedia.net/img/cache/200-squ...  \n",
       "4     https://nilaigizi.com/assets/images/produk/pro...  \n",
       "...                                                 ...  \n",
       "1341  https://www.astronauts.id/blog/wp-content/uplo...  \n",
       "1342  https://www.wikihow.com/images_en/thumb/b/bf/S...  \n",
       "1343  https://asset-a.grid.id/crop/0x222:594x690/700...  \n",
       "1344  https://serikatnews.com/wp-content/uploads/202...  \n",
       "1345  https://d1vbn70lmn1nqe.cloudfront.net/prod/wp-...  \n",
       "\n",
       "[1346 rows x 7 columns]"
      ]
     },
     "execution_count": 2,
     "metadata": {},
     "output_type": "execute_result"
    }
   ],
   "source": [
    "df = pd.read_csv('../data/nutrition.csv')\n",
    "df"
   ]
  },
  {
   "cell_type": "code",
   "execution_count": 3,
   "id": "6ca96594",
   "metadata": {},
   "outputs": [
    {
     "data": {
      "text/plain": [
       "(1346, 7)"
      ]
     },
     "execution_count": 3,
     "metadata": {},
     "output_type": "execute_result"
    }
   ],
   "source": [
    "df.shape"
   ]
  },
  {
   "cell_type": "code",
   "execution_count": 4,
   "id": "d5776658",
   "metadata": {},
   "outputs": [
    {
     "name": "stdout",
     "output_type": "stream",
     "text": [
      "<class 'pandas.core.frame.DataFrame'>\n",
      "RangeIndex: 1346 entries, 0 to 1345\n",
      "Data columns (total 7 columns):\n",
      " #   Column        Non-Null Count  Dtype  \n",
      "---  ------        --------------  -----  \n",
      " 0   id            1346 non-null   int64  \n",
      " 1   calories      1346 non-null   float64\n",
      " 2   proteins      1346 non-null   float64\n",
      " 3   fat           1346 non-null   float64\n",
      " 4   carbohydrate  1346 non-null   float64\n",
      " 5   name          1346 non-null   object \n",
      " 6   image         1346 non-null   object \n",
      "dtypes: float64(4), int64(1), object(2)\n",
      "memory usage: 73.7+ KB\n"
     ]
    }
   ],
   "source": [
    "df.info()"
   ]
  },
  {
   "cell_type": "code",
   "execution_count": 5,
   "id": "9ac19040",
   "metadata": {},
   "outputs": [
    {
     "data": {
      "text/html": [
       "<div>\n",
       "<style scoped>\n",
       "    .dataframe tbody tr th:only-of-type {\n",
       "        vertical-align: middle;\n",
       "    }\n",
       "\n",
       "    .dataframe tbody tr th {\n",
       "        vertical-align: top;\n",
       "    }\n",
       "\n",
       "    .dataframe thead th {\n",
       "        text-align: right;\n",
       "    }\n",
       "</style>\n",
       "<table border=\"1\" class=\"dataframe\">\n",
       "  <thead>\n",
       "    <tr style=\"text-align: right;\">\n",
       "      <th></th>\n",
       "      <th>id</th>\n",
       "      <th>calories</th>\n",
       "      <th>proteins</th>\n",
       "      <th>fat</th>\n",
       "      <th>carbohydrate</th>\n",
       "    </tr>\n",
       "  </thead>\n",
       "  <tbody>\n",
       "    <tr>\n",
       "      <th>count</th>\n",
       "      <td>1346.000000</td>\n",
       "      <td>1346.000000</td>\n",
       "      <td>1346.000000</td>\n",
       "      <td>1346.000000</td>\n",
       "      <td>1346.000000</td>\n",
       "    </tr>\n",
       "    <tr>\n",
       "      <th>mean</th>\n",
       "      <td>673.500000</td>\n",
       "      <td>203.217385</td>\n",
       "      <td>10.001189</td>\n",
       "      <td>7.584027</td>\n",
       "      <td>25.390193</td>\n",
       "    </tr>\n",
       "    <tr>\n",
       "      <th>std</th>\n",
       "      <td>388.701042</td>\n",
       "      <td>163.075430</td>\n",
       "      <td>11.847980</td>\n",
       "      <td>13.733063</td>\n",
       "      <td>32.193054</td>\n",
       "    </tr>\n",
       "    <tr>\n",
       "      <th>min</th>\n",
       "      <td>1.000000</td>\n",
       "      <td>0.000000</td>\n",
       "      <td>0.000000</td>\n",
       "      <td>0.000000</td>\n",
       "      <td>0.000000</td>\n",
       "    </tr>\n",
       "    <tr>\n",
       "      <th>25%</th>\n",
       "      <td>337.250000</td>\n",
       "      <td>75.000000</td>\n",
       "      <td>1.800000</td>\n",
       "      <td>0.500000</td>\n",
       "      <td>4.525000</td>\n",
       "    </tr>\n",
       "    <tr>\n",
       "      <th>50%</th>\n",
       "      <td>673.500000</td>\n",
       "      <td>146.000000</td>\n",
       "      <td>5.000000</td>\n",
       "      <td>2.000000</td>\n",
       "      <td>13.300000</td>\n",
       "    </tr>\n",
       "    <tr>\n",
       "      <th>75%</th>\n",
       "      <td>1009.750000</td>\n",
       "      <td>333.750000</td>\n",
       "      <td>15.000000</td>\n",
       "      <td>8.275000</td>\n",
       "      <td>37.575000</td>\n",
       "    </tr>\n",
       "    <tr>\n",
       "      <th>max</th>\n",
       "      <td>1346.000000</td>\n",
       "      <td>940.000000</td>\n",
       "      <td>83.000000</td>\n",
       "      <td>100.000000</td>\n",
       "      <td>647.000000</td>\n",
       "    </tr>\n",
       "  </tbody>\n",
       "</table>\n",
       "</div>"
      ],
      "text/plain": [
       "                id     calories     proteins          fat  carbohydrate\n",
       "count  1346.000000  1346.000000  1346.000000  1346.000000   1346.000000\n",
       "mean    673.500000   203.217385    10.001189     7.584027     25.390193\n",
       "std     388.701042   163.075430    11.847980    13.733063     32.193054\n",
       "min       1.000000     0.000000     0.000000     0.000000      0.000000\n",
       "25%     337.250000    75.000000     1.800000     0.500000      4.525000\n",
       "50%     673.500000   146.000000     5.000000     2.000000     13.300000\n",
       "75%    1009.750000   333.750000    15.000000     8.275000     37.575000\n",
       "max    1346.000000   940.000000    83.000000   100.000000    647.000000"
      ]
     },
     "execution_count": 5,
     "metadata": {},
     "output_type": "execute_result"
    }
   ],
   "source": [
    "df.describe()"
   ]
  },
  {
   "cell_type": "code",
   "execution_count": 6,
   "id": "44779dca",
   "metadata": {},
   "outputs": [
    {
     "data": {
      "text/plain": [
       "id              0\n",
       "calories        0\n",
       "proteins        0\n",
       "fat             0\n",
       "carbohydrate    0\n",
       "name            0\n",
       "image           0\n",
       "dtype: int64"
      ]
     },
     "execution_count": 6,
     "metadata": {},
     "output_type": "execute_result"
    }
   ],
   "source": [
    "df.isna().sum()"
   ]
  },
  {
   "cell_type": "code",
   "execution_count": 7,
   "id": "1b770dc9",
   "metadata": {},
   "outputs": [
    {
     "data": {
      "text/plain": [
       "0"
      ]
     },
     "execution_count": 7,
     "metadata": {},
     "output_type": "execute_result"
    }
   ],
   "source": [
    "df.duplicated().sum()"
   ]
  },
  {
   "cell_type": "code",
   "execution_count": 8,
   "id": "d0b546ca",
   "metadata": {},
   "outputs": [],
   "source": [
    "df.drop(columns=['id','image'],inplace=True)"
   ]
  },
  {
   "cell_type": "code",
   "execution_count": 9,
   "id": "062d0411",
   "metadata": {},
   "outputs": [
    {
     "name": "stdout",
     "output_type": "stream",
     "text": [
      "472\n",
      "312\n",
      "279\n",
      "544\n",
      "1346\n"
     ]
    }
   ],
   "source": [
    "for col in df.columns:\n",
    "    if col == 'image':\n",
    "        break\n",
    "    print(df[col].nunique())"
   ]
  },
  {
   "cell_type": "code",
   "execution_count": 18,
   "id": "eb2e2d66",
   "metadata": {},
   "outputs": [
    {
     "data": {
      "text/plain": [
       "0"
      ]
     },
     "execution_count": 18,
     "metadata": {},
     "output_type": "execute_result"
    }
   ],
   "source": [
    "df['name'].isin(['Minyak']).sum()"
   ]
  },
  {
   "cell_type": "code",
   "execution_count": null,
   "id": "d9d9205b",
   "metadata": {},
   "outputs": [],
   "source": []
  }
 ],
 "metadata": {
  "kernelspec": {
   "display_name": "Python [conda env:ai-dashboard]",
   "language": "python",
   "name": "conda-env-ai-dashboard-py"
  },
  "language_info": {
   "codemirror_mode": {
    "name": "ipython",
    "version": 3
   },
   "file_extension": ".py",
   "mimetype": "text/x-python",
   "name": "python",
   "nbconvert_exporter": "python",
   "pygments_lexer": "ipython3",
   "version": "3.10.18"
  }
 },
 "nbformat": 4,
 "nbformat_minor": 5
}
